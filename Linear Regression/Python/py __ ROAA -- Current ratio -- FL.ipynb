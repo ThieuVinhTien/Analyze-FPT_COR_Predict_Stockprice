{
 "cells": [
  {
   "cell_type": "code",
   "execution_count": 1,
   "id": "348d1f68",
   "metadata": {},
   "outputs": [],
   "source": [
    "import statsmodels.api as sm\n",
    "import pandas as pd\n",
    "import numpy as np\n",
    "from scipy import stats"
   ]
  },
  {
   "cell_type": "code",
   "execution_count": 2,
   "id": "ae2177b5",
   "metadata": {},
   "outputs": [],
   "source": [
    "# Read the CSV file\n",
    "df = pd.read_csv('D:/Desktop/ROAA -- Current ratio -- Finace leverage.csv')"
   ]
  },
  {
   "cell_type": "code",
   "execution_count": 3,
   "id": "83aa5266",
   "metadata": {},
   "outputs": [
    {
     "data": {
      "text/html": [
       "<div>\n",
       "<style scoped>\n",
       "    .dataframe tbody tr th:only-of-type {\n",
       "        vertical-align: middle;\n",
       "    }\n",
       "\n",
       "    .dataframe tbody tr th {\n",
       "        vertical-align: top;\n",
       "    }\n",
       "\n",
       "    .dataframe thead th {\n",
       "        text-align: right;\n",
       "    }\n",
       "</style>\n",
       "<table border=\"1\" class=\"dataframe\">\n",
       "  <thead>\n",
       "    <tr style=\"text-align: right;\">\n",
       "      <th></th>\n",
       "      <th>Return on Average Assets (ROAA)</th>\n",
       "      <th>Current ratio (short term)</th>\n",
       "      <th>Finace leverage (Debt ratio)</th>\n",
       "    </tr>\n",
       "  </thead>\n",
       "  <tbody>\n",
       "    <tr>\n",
       "      <th>0</th>\n",
       "      <td>13.40</td>\n",
       "      <td>1.93</td>\n",
       "      <td>50.31</td>\n",
       "    </tr>\n",
       "    <tr>\n",
       "      <th>1</th>\n",
       "      <td>4.62</td>\n",
       "      <td>2.15</td>\n",
       "      <td>44.91</td>\n",
       "    </tr>\n",
       "    <tr>\n",
       "      <th>2</th>\n",
       "      <td>5.88</td>\n",
       "      <td>1.96</td>\n",
       "      <td>45.09</td>\n",
       "    </tr>\n",
       "    <tr>\n",
       "      <th>3</th>\n",
       "      <td>2.29</td>\n",
       "      <td>2.27</td>\n",
       "      <td>40.16</td>\n",
       "    </tr>\n",
       "    <tr>\n",
       "      <th>4</th>\n",
       "      <td>5.97</td>\n",
       "      <td>1.45</td>\n",
       "      <td>57.40</td>\n",
       "    </tr>\n",
       "    <tr>\n",
       "      <th>...</th>\n",
       "      <td>...</td>\n",
       "      <td>...</td>\n",
       "      <td>...</td>\n",
       "    </tr>\n",
       "    <tr>\n",
       "      <th>63</th>\n",
       "      <td>2.61</td>\n",
       "      <td>1.23</td>\n",
       "      <td>56.36</td>\n",
       "    </tr>\n",
       "    <tr>\n",
       "      <th>64</th>\n",
       "      <td>2.53</td>\n",
       "      <td>1.26</td>\n",
       "      <td>50.94</td>\n",
       "    </tr>\n",
       "    <tr>\n",
       "      <th>65</th>\n",
       "      <td>2.92</td>\n",
       "      <td>1.28</td>\n",
       "      <td>46.67</td>\n",
       "    </tr>\n",
       "    <tr>\n",
       "      <th>66</th>\n",
       "      <td>2.71</td>\n",
       "      <td>1.24</td>\n",
       "      <td>52.78</td>\n",
       "    </tr>\n",
       "    <tr>\n",
       "      <th>67</th>\n",
       "      <td>2.84</td>\n",
       "      <td>1.20</td>\n",
       "      <td>54.27</td>\n",
       "    </tr>\n",
       "  </tbody>\n",
       "</table>\n",
       "<p>68 rows × 3 columns</p>\n",
       "</div>"
      ],
      "text/plain": [
       "    Return on Average Assets (ROAA)  Current ratio (short term)  \\\n",
       "0                             13.40                        1.93   \n",
       "1                              4.62                        2.15   \n",
       "2                              5.88                        1.96   \n",
       "3                              2.29                        2.27   \n",
       "4                              5.97                        1.45   \n",
       "..                              ...                         ...   \n",
       "63                             2.61                        1.23   \n",
       "64                             2.53                        1.26   \n",
       "65                             2.92                        1.28   \n",
       "66                             2.71                        1.24   \n",
       "67                             2.84                        1.20   \n",
       "\n",
       "    Finace leverage (Debt ratio)  \n",
       "0                          50.31  \n",
       "1                          44.91  \n",
       "2                          45.09  \n",
       "3                          40.16  \n",
       "4                          57.40  \n",
       "..                           ...  \n",
       "63                         56.36  \n",
       "64                         50.94  \n",
       "65                         46.67  \n",
       "66                         52.78  \n",
       "67                         54.27  \n",
       "\n",
       "[68 rows x 3 columns]"
      ]
     },
     "execution_count": 3,
     "metadata": {},
     "output_type": "execute_result"
    }
   ],
   "source": [
    "df"
   ]
  },
  {
   "cell_type": "code",
   "execution_count": 4,
   "id": "9a1b9a09",
   "metadata": {},
   "outputs": [],
   "source": [
    "Y = df['Return on Average Assets (ROAA)']"
   ]
  },
  {
   "cell_type": "code",
   "execution_count": 5,
   "id": "fedc3fda",
   "metadata": {},
   "outputs": [
    {
     "data": {
      "text/plain": [
       "0     13.40\n",
       "1      4.62\n",
       "2      5.88\n",
       "3      2.29\n",
       "4      5.97\n",
       "      ...  \n",
       "63     2.61\n",
       "64     2.53\n",
       "65     2.92\n",
       "66     2.71\n",
       "67     2.84\n",
       "Name: Return on Average Assets (ROAA), Length: 68, dtype: float64"
      ]
     },
     "execution_count": 5,
     "metadata": {},
     "output_type": "execute_result"
    }
   ],
   "source": [
    "Y"
   ]
  },
  {
   "cell_type": "code",
   "execution_count": 6,
   "id": "dcd2d2a8",
   "metadata": {},
   "outputs": [],
   "source": [
    "# Add a constant term for intercept\n",
    "X = sm.add_constant(df[['Current ratio (short term)', 'Finace leverage (Debt ratio)']])"
   ]
  },
  {
   "cell_type": "code",
   "execution_count": 7,
   "id": "a9e1ee9d",
   "metadata": {},
   "outputs": [
    {
     "name": "stdout",
     "output_type": "stream",
     "text": [
      "                                   OLS Regression Results                                  \n",
      "===========================================================================================\n",
      "Dep. Variable:     Return on Average Assets (ROAA)   R-squared:                       0.193\n",
      "Model:                                         OLS   Adj. R-squared:                  0.168\n",
      "Method:                              Least Squares   F-statistic:                     7.788\n",
      "Date:                             Thu, 16 Nov 2023   Prob (F-statistic):           0.000929\n",
      "Time:                                     23:07:50   Log-Likelihood:                -121.81\n",
      "No. Observations:                               68   AIC:                             249.6\n",
      "Df Residuals:                                   65   BIC:                             256.3\n",
      "Df Model:                                        2                                         \n",
      "Covariance Type:                         nonrobust                                         \n",
      "================================================================================================\n",
      "                                   coef    std err          t      P>|t|      [0.025      0.975]\n",
      "------------------------------------------------------------------------------------------------\n",
      "const                            0.1150      2.575      0.045      0.965      -5.027       5.257\n",
      "Current ratio (short term)       2.7781      0.794      3.498      0.001       1.192       4.364\n",
      "Finace leverage (Debt ratio)    -0.0233      0.037     -0.633      0.529      -0.097       0.050\n",
      "==============================================================================\n",
      "Omnibus:                       86.297   Durbin-Watson:                   1.595\n",
      "Prob(Omnibus):                  0.000   Jarque-Bera (JB):             1363.481\n",
      "Skew:                           3.634   Prob(JB):                    8.39e-297\n",
      "Kurtosis:                      23.698   Cond. No.                         786.\n",
      "==============================================================================\n",
      "\n",
      "Notes:\n",
      "[1] Standard Errors assume that the covariance matrix of the errors is correctly specified.\n"
     ]
    }
   ],
   "source": [
    "# Fit the OLS model\n",
    "model = sm.OLS(Y, X).fit()\n",
    "\n",
    "# Print a summary of the regression\n",
    "print(model.summary())"
   ]
  }
 ],
 "metadata": {
  "kernelspec": {
   "display_name": "Python 3 (ipykernel)",
   "language": "python",
   "name": "python3"
  },
  "language_info": {
   "codemirror_mode": {
    "name": "ipython",
    "version": 3
   },
   "file_extension": ".py",
   "mimetype": "text/x-python",
   "name": "python",
   "nbconvert_exporter": "python",
   "pygments_lexer": "ipython3",
   "version": "3.11.4"
  }
 },
 "nbformat": 4,
 "nbformat_minor": 5
}
