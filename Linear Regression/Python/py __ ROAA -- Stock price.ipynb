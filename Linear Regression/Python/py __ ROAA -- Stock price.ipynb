{
 "cells": [
  {
   "cell_type": "code",
   "execution_count": 1,
   "id": "e84e4605",
   "metadata": {},
   "outputs": [],
   "source": [
    "import statsmodels.api as sm\n",
    "import pandas as pd\n",
    "import numpy as np\n",
    "from scipy import stats"
   ]
  },
  {
   "cell_type": "code",
   "execution_count": 12,
   "id": "104f7692",
   "metadata": {},
   "outputs": [],
   "source": [
    "# Read the CSV file\n",
    "df = pd.read_csv('D:/Desktop/ROAA -- stock price.csv')"
   ]
  },
  {
   "cell_type": "code",
   "execution_count": 13,
   "id": "f2b80849",
   "metadata": {},
   "outputs": [
    {
     "data": {
      "text/html": [
       "<div>\n",
       "<style scoped>\n",
       "    .dataframe tbody tr th:only-of-type {\n",
       "        vertical-align: middle;\n",
       "    }\n",
       "\n",
       "    .dataframe tbody tr th {\n",
       "        vertical-align: top;\n",
       "    }\n",
       "\n",
       "    .dataframe thead th {\n",
       "        text-align: right;\n",
       "    }\n",
       "</style>\n",
       "<table border=\"1\" class=\"dataframe\">\n",
       "  <thead>\n",
       "    <tr style=\"text-align: right;\">\n",
       "      <th></th>\n",
       "      <th>Season</th>\n",
       "      <th>Return on Average Assets (ROAA)</th>\n",
       "      <th>Price</th>\n",
       "    </tr>\n",
       "  </thead>\n",
       "  <tbody>\n",
       "    <tr>\n",
       "      <th>0</th>\n",
       "      <td>S1/2007</td>\n",
       "      <td>4.62</td>\n",
       "      <td>24565.90000</td>\n",
       "    </tr>\n",
       "    <tr>\n",
       "      <th>1</th>\n",
       "      <td>S2/2007</td>\n",
       "      <td>5.88</td>\n",
       "      <td>19051.86667</td>\n",
       "    </tr>\n",
       "    <tr>\n",
       "      <th>2</th>\n",
       "      <td>S3/2007</td>\n",
       "      <td>2.29</td>\n",
       "      <td>15103.10000</td>\n",
       "    </tr>\n",
       "    <tr>\n",
       "      <th>3</th>\n",
       "      <td>S4/2007</td>\n",
       "      <td>5.97</td>\n",
       "      <td>15006.63333</td>\n",
       "    </tr>\n",
       "    <tr>\n",
       "      <th>4</th>\n",
       "      <td>S1/2008</td>\n",
       "      <td>3.15</td>\n",
       "      <td>8885.23333</td>\n",
       "    </tr>\n",
       "    <tr>\n",
       "      <th>...</th>\n",
       "      <td>...</td>\n",
       "      <td>...</td>\n",
       "      <td>...</td>\n",
       "    </tr>\n",
       "    <tr>\n",
       "      <th>62</th>\n",
       "      <td>S3/2022</td>\n",
       "      <td>2.61</td>\n",
       "      <td>83213.43333</td>\n",
       "    </tr>\n",
       "    <tr>\n",
       "      <th>63</th>\n",
       "      <td>S4/2022</td>\n",
       "      <td>2.53</td>\n",
       "      <td>75700.00000</td>\n",
       "    </tr>\n",
       "    <tr>\n",
       "      <th>64</th>\n",
       "      <td>S1/2023</td>\n",
       "      <td>2.92</td>\n",
       "      <td>81033.33333</td>\n",
       "    </tr>\n",
       "    <tr>\n",
       "      <th>65</th>\n",
       "      <td>S2/2023</td>\n",
       "      <td>2.71</td>\n",
       "      <td>82533.33333</td>\n",
       "    </tr>\n",
       "    <tr>\n",
       "      <th>66</th>\n",
       "      <td>S3/2023</td>\n",
       "      <td>2.84</td>\n",
       "      <td>91700.00000</td>\n",
       "    </tr>\n",
       "  </tbody>\n",
       "</table>\n",
       "<p>67 rows × 3 columns</p>\n",
       "</div>"
      ],
      "text/plain": [
       "     Season  Return on Average Assets (ROAA)        Price\n",
       "0   S1/2007                             4.62  24565.90000\n",
       "1   S2/2007                             5.88  19051.86667\n",
       "2   S3/2007                             2.29  15103.10000\n",
       "3   S4/2007                             5.97  15006.63333\n",
       "4   S1/2008                             3.15   8885.23333\n",
       "..      ...                              ...          ...\n",
       "62  S3/2022                             2.61  83213.43333\n",
       "63  S4/2022                             2.53  75700.00000\n",
       "64  S1/2023                             2.92  81033.33333\n",
       "65  S2/2023                             2.71  82533.33333\n",
       "66  S3/2023                             2.84  91700.00000\n",
       "\n",
       "[67 rows x 3 columns]"
      ]
     },
     "execution_count": 13,
     "metadata": {},
     "output_type": "execute_result"
    }
   ],
   "source": [
    "df"
   ]
  },
  {
   "cell_type": "code",
   "execution_count": 14,
   "id": "f27dad97",
   "metadata": {},
   "outputs": [],
   "source": [
    "Y = df['Return on Average Assets (ROAA)']"
   ]
  },
  {
   "cell_type": "code",
   "execution_count": 15,
   "id": "0237666f",
   "metadata": {},
   "outputs": [
    {
     "data": {
      "text/plain": [
       "0     4.62\n",
       "1     5.88\n",
       "2     2.29\n",
       "3     5.97\n",
       "4     3.15\n",
       "      ... \n",
       "62    2.61\n",
       "63    2.53\n",
       "64    2.92\n",
       "65    2.71\n",
       "66    2.84\n",
       "Name: Return on Average Assets (ROAA), Length: 67, dtype: float64"
      ]
     },
     "execution_count": 15,
     "metadata": {},
     "output_type": "execute_result"
    }
   ],
   "source": [
    "Y"
   ]
  },
  {
   "cell_type": "code",
   "execution_count": 16,
   "id": "a3704049",
   "metadata": {},
   "outputs": [],
   "source": [
    "# Add a constant term for intercept\n",
    "X = sm.add_constant(df['Price'])"
   ]
  },
  {
   "cell_type": "code",
   "execution_count": 17,
   "id": "a4700bd0",
   "metadata": {},
   "outputs": [
    {
     "data": {
      "text/html": [
       "<div>\n",
       "<style scoped>\n",
       "    .dataframe tbody tr th:only-of-type {\n",
       "        vertical-align: middle;\n",
       "    }\n",
       "\n",
       "    .dataframe tbody tr th {\n",
       "        vertical-align: top;\n",
       "    }\n",
       "\n",
       "    .dataframe thead th {\n",
       "        text-align: right;\n",
       "    }\n",
       "</style>\n",
       "<table border=\"1\" class=\"dataframe\">\n",
       "  <thead>\n",
       "    <tr style=\"text-align: right;\">\n",
       "      <th></th>\n",
       "      <th>const</th>\n",
       "      <th>Price</th>\n",
       "    </tr>\n",
       "  </thead>\n",
       "  <tbody>\n",
       "    <tr>\n",
       "      <th>0</th>\n",
       "      <td>1.0</td>\n",
       "      <td>24565.90000</td>\n",
       "    </tr>\n",
       "    <tr>\n",
       "      <th>1</th>\n",
       "      <td>1.0</td>\n",
       "      <td>19051.86667</td>\n",
       "    </tr>\n",
       "    <tr>\n",
       "      <th>2</th>\n",
       "      <td>1.0</td>\n",
       "      <td>15103.10000</td>\n",
       "    </tr>\n",
       "    <tr>\n",
       "      <th>3</th>\n",
       "      <td>1.0</td>\n",
       "      <td>15006.63333</td>\n",
       "    </tr>\n",
       "    <tr>\n",
       "      <th>4</th>\n",
       "      <td>1.0</td>\n",
       "      <td>8885.23333</td>\n",
       "    </tr>\n",
       "    <tr>\n",
       "      <th>...</th>\n",
       "      <td>...</td>\n",
       "      <td>...</td>\n",
       "    </tr>\n",
       "    <tr>\n",
       "      <th>62</th>\n",
       "      <td>1.0</td>\n",
       "      <td>83213.43333</td>\n",
       "    </tr>\n",
       "    <tr>\n",
       "      <th>63</th>\n",
       "      <td>1.0</td>\n",
       "      <td>75700.00000</td>\n",
       "    </tr>\n",
       "    <tr>\n",
       "      <th>64</th>\n",
       "      <td>1.0</td>\n",
       "      <td>81033.33333</td>\n",
       "    </tr>\n",
       "    <tr>\n",
       "      <th>65</th>\n",
       "      <td>1.0</td>\n",
       "      <td>82533.33333</td>\n",
       "    </tr>\n",
       "    <tr>\n",
       "      <th>66</th>\n",
       "      <td>1.0</td>\n",
       "      <td>91700.00000</td>\n",
       "    </tr>\n",
       "  </tbody>\n",
       "</table>\n",
       "<p>67 rows × 2 columns</p>\n",
       "</div>"
      ],
      "text/plain": [
       "    const        Price\n",
       "0     1.0  24565.90000\n",
       "1     1.0  19051.86667\n",
       "2     1.0  15103.10000\n",
       "3     1.0  15006.63333\n",
       "4     1.0   8885.23333\n",
       "..    ...          ...\n",
       "62    1.0  83213.43333\n",
       "63    1.0  75700.00000\n",
       "64    1.0  81033.33333\n",
       "65    1.0  82533.33333\n",
       "66    1.0  91700.00000\n",
       "\n",
       "[67 rows x 2 columns]"
      ]
     },
     "execution_count": 17,
     "metadata": {},
     "output_type": "execute_result"
    }
   ],
   "source": [
    "X"
   ]
  },
  {
   "cell_type": "code",
   "execution_count": 18,
   "id": "f06e3654",
   "metadata": {},
   "outputs": [
    {
     "name": "stdout",
     "output_type": "stream",
     "text": [
      "                                   OLS Regression Results                                  \n",
      "===========================================================================================\n",
      "Dep. Variable:     Return on Average Assets (ROAA)   R-squared:                       0.016\n",
      "Model:                                         OLS   Adj. R-squared:                  0.000\n",
      "Method:                              Least Squares   F-statistic:                     1.028\n",
      "Date:                             Fri, 17 Nov 2023   Prob (F-statistic):              0.314\n",
      "Time:                                     15:01:51   Log-Likelihood:                -93.695\n",
      "No. Observations:                               67   AIC:                             191.4\n",
      "Df Residuals:                                   65   BIC:                             195.8\n",
      "Df Model:                                        1                                         \n",
      "Covariance Type:                         nonrobust                                         \n",
      "==============================================================================\n",
      "                 coef    std err          t      P>|t|      [0.025      0.975]\n",
      "------------------------------------------------------------------------------\n",
      "const          2.8538      0.172     16.546      0.000       2.509       3.198\n",
      "Price      -4.944e-06   4.88e-06     -1.014      0.314   -1.47e-05    4.79e-06\n",
      "==============================================================================\n",
      "Omnibus:                       23.938   Durbin-Watson:                   1.444\n",
      "Prob(Omnibus):                  0.000   Jarque-Bera (JB):               38.332\n",
      "Skew:                           1.325   Prob(JB):                     4.74e-09\n",
      "Kurtosis:                       5.589   Cond. No.                     5.02e+04\n",
      "==============================================================================\n",
      "\n",
      "Notes:\n",
      "[1] Standard Errors assume that the covariance matrix of the errors is correctly specified.\n",
      "[2] The condition number is large, 5.02e+04. This might indicate that there are\n",
      "strong multicollinearity or other numerical problems.\n"
     ]
    }
   ],
   "source": [
    "# Fit the multiple regression model\n",
    "model = sm.OLS(Y, X).fit()\n",
    "\n",
    "# Print the summary of the regression results\n",
    "print(model.summary())"
   ]
  }
 ],
 "metadata": {
  "kernelspec": {
   "display_name": "Python 3 (ipykernel)",
   "language": "python",
   "name": "python3"
  },
  "language_info": {
   "codemirror_mode": {
    "name": "ipython",
    "version": 3
   },
   "file_extension": ".py",
   "mimetype": "text/x-python",
   "name": "python",
   "nbconvert_exporter": "python",
   "pygments_lexer": "ipython3",
   "version": "3.11.4"
  }
 },
 "nbformat": 4,
 "nbformat_minor": 5
}
